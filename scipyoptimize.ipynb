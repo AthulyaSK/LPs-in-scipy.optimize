{
  "nbformat": 4,
  "nbformat_minor": 0,
  "metadata": {
    "colab": {
      "provenance": [],
      "include_colab_link": true
    },
    "kernelspec": {
      "name": "python3",
      "display_name": "Python 3"
    },
    "language_info": {
      "name": "python"
    }
  },
  "cells": [
    {
      "cell_type": "markdown",
      "metadata": {
        "id": "view-in-github",
        "colab_type": "text"
      },
      "source": [
        "<a href=\"https://colab.research.google.com/github/AthulyaSK/LPs-in-scipy.optimize/blob/main/scipyoptimize.ipynb\" target=\"_parent\"><img src=\"https://colab.research.google.com/assets/colab-badge.svg\" alt=\"Open In Colab\"/></a>"
      ]
    },
    {
      "cell_type": "markdown",
      "source": [
        "#LPs in scipy.optimize\n",
        "\n",
        "source: https://towardsdatascience.com/linear-programming-with-python-db7742b91cb\n",
        "\n",
        "see also scipy.optimize documentation: https://docs.scipy.org/doc/scipy/reference/optimize.html\n",
        "\n",
        "![1_vbhG3x0PadmRzOMRHsuL8A.png](data:image/png;base64,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)"
      ],
      "metadata": {
        "id": "8TnGLW93Gapr"
      }
    },
    {
      "cell_type": "code",
      "execution_count": null,
      "metadata": {
        "id": "VILq9KwqGK8a"
      },
      "outputs": [],
      "source": [
        "# Import required libraries\n",
        "import numpy as np\n",
        "from scipy.optimize import linprog"
      ]
    },
    {
      "cell_type": "code",
      "source": [
        "# Set the inequality constraints matrix\n",
        "# Note: the inequality constraints must be in the form of <=\n",
        "A = np.array([[-1, -1, -1], [-1, 2, 0], [0, 0, -1], [-1, 0, 0], [0, -1, 0], [0, 0, -1]])\n",
        "\n",
        "# Set the inequality constraints vector\n",
        "b = np.array([-1000, 0, -340, 0, 0, 0])\n",
        "\n",
        "# Set the coefficients of the linear objective function vector\n",
        "c = np.array([10, 15, 25])\n",
        "\n",
        "# Solve linear programming problem\n",
        "res = linprog(c, A_ub=A, b_ub=b)\n",
        "\n",
        "# Print results\n",
        "print('Optimal value:', round(res.fun, ndigits=2),\n",
        "      '\\nx values:', res.x,\n",
        "      '\\nNumber of iterations performed:', res.nit,\n",
        "      '\\nStatus:', res.message)"
      ],
      "metadata": {
        "colab": {
          "base_uri": "https://localhost:8080/"
        },
        "id": "qsiGUoL7GQBb",
        "outputId": "b61cb2eb-0da3-41f7-a4bb-8a7905df2123"
      },
      "execution_count": null,
      "outputs": [
        {
          "output_type": "stream",
          "name": "stdout",
          "text": [
            "Optimal value: 15100.0 \n",
            "x values: [6.59999996e+02 1.00009440e-07 3.40000000e+02] \n",
            "Number of iterations performed: 7 \n",
            "Status: Optimization terminated successfully.\n"
          ]
        }
      ]
    }
  ]
}